{
 "cells": [
  {
   "cell_type": "code",
   "execution_count": 1,
   "id": "33e961df-7223-4bd5-be62-ce2cbdcbafe0",
   "metadata": {},
   "outputs": [],
   "source": [
    "from PIL import Image\n",
    "\n",
    "# Read the input image\n",
    "img = Image.open('lenna.jpg')"
   ]
  },
  {
   "cell_type": "code",
   "execution_count": 2,
   "id": "633a56ed-7119-4a1c-8826-ca82cff39196",
   "metadata": {},
   "outputs": [],
   "source": [
    "# Convert the image to grayscale\n",
    "grayscale_img = Image.new('L', img.size)\n",
    "for x in range(img.width):\n",
    "    for y in range(img.height):\n",
    "        r, g, b = img.getpixel((x, y))\n",
    "        grayscale = int(0.299 * r + 0.587 * g + 0.114 * b)\n",
    "        grayscale_img.putpixel((x, y), grayscale)"
   ]
  },
  {
   "cell_type": "code",
   "execution_count": 3,
   "id": "15de438a-afce-46ab-8fb8-e5b0debe9094",
   "metadata": {},
   "outputs": [],
   "source": [
    "# Convert the grayscale image to binary\n",
    "threshold = 128\n",
    "binary_img = Image.new('1', img.size)\n",
    "for x in range(grayscale_img.width):\n",
    "    for y in range(grayscale_img.height):\n",
    "        intensity = grayscale_img.getpixel((x, y))\n",
    "        if intensity >= threshold:\n",
    "            binary_img.putpixel((x, y), 1)\n",
    "        else:\n",
    "            binary_img.putpixel((x, y), 0)"
   ]
  },
  {
   "cell_type": "code",
   "execution_count": 7,
   "id": "b2b4d488-b1e3-487d-8f57-45adbe12c6fa",
   "metadata": {},
   "outputs": [],
   "source": [
    "# Display the binary image\n",
    "binary_img.show()\n",
    "grayscale_img.show()"
   ]
  },
  {
   "cell_type": "code",
   "execution_count": null,
   "id": "ca456ad6-a613-4bf2-b259-8a82a66c8a53",
   "metadata": {},
   "outputs": [],
   "source": []
  }
 ],
 "metadata": {
  "kernelspec": {
   "display_name": "Python 3 (ipykernel)",
   "language": "python",
   "name": "python3"
  },
  "language_info": {
   "codemirror_mode": {
    "name": "ipython",
    "version": 3
   },
   "file_extension": ".py",
   "mimetype": "text/x-python",
   "name": "python",
   "nbconvert_exporter": "python",
   "pygments_lexer": "ipython3",
   "version": "3.11.7"
  }
 },
 "nbformat": 4,
 "nbformat_minor": 5
}
