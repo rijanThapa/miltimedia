{
 "cells": [
  {
   "cell_type": "code",
   "execution_count": 1,
   "id": "d8308fe7-20c4-4873-856d-224320e07860",
   "metadata": {},
   "outputs": [
    {
     "name": "stdout",
     "output_type": "stream",
     "text": [
      "JPG size: 108582 bytes\n",
      "PNG size: 1041707 bytes\n",
      "TIFF size: 2880140 bytes\n",
      "Actual JPG size: 108582 bytes\n"
     ]
    }
   ],
   "source": [
    "from PIL import Image\n",
    "import os\n",
    "\n",
    "# Read the input image\n",
    "img = Image.open('lenna.jpg')\n",
    "\n",
    "# Convert to png and save\n",
    "img.save('lenna.png', 'PNG')\n",
    "\n",
    "# Convert to tiff and save\n",
    "img.save('lenna.tiff', 'TIFF')\n",
    "\n",
    "# Get the file sizes\n",
    "jpg_size = os.path.getsize('lenna.jpg')\n",
    "png_size = os.path.getsize('lenna.png')\n",
    "tiff_size = os.path.getsize('lenna.tiff')\n",
    "\n",
    "# Display the file sizes\n",
    "print(\"JPG size: {} bytes\".format(jpg_size))\n",
    "print(\"PNG size: {} bytes\".format(png_size))\n",
    "print(\"TIFF size: {} bytes\".format(tiff_size))\n",
    "\n",
    "# Display the actual size of jpg without using any library\n",
    "with open('lenna.jpg', 'rb') as f:\n",
    "    data = f.read()\n",
    "    jpg_actual_size = len(data)\n",
    "\n",
    "print(\"Actual JPG size: {} bytes\".format(jpg_actual_size))\n"
   ]
  },
  {
   "cell_type": "code",
   "execution_count": null,
   "id": "bfaa1197-924e-4415-a777-388a7d337f86",
   "metadata": {},
   "outputs": [],
   "source": []
  }
 ],
 "metadata": {
  "kernelspec": {
   "display_name": "Python 3 (ipykernel)",
   "language": "python",
   "name": "python3"
  },
  "language_info": {
   "codemirror_mode": {
    "name": "ipython",
    "version": 3
   },
   "file_extension": ".py",
   "mimetype": "text/x-python",
   "name": "python",
   "nbconvert_exporter": "python",
   "pygments_lexer": "ipython3",
   "version": "3.11.7"
  }
 },
 "nbformat": 4,
 "nbformat_minor": 5
}
