{
 "cells": [
  {
   "cell_type": "code",
   "execution_count": 1,
   "id": "a6738b3f-b549-4615-bd1e-0f1c294dffd0",
   "metadata": {},
   "outputs": [],
   "source": [
    "from PIL import Image\n",
    "# read the input image\n",
    "img = Image.open('lenna.jpg')"
   ]
  },
  {
   "cell_type": "code",
   "execution_count": 2,
   "id": "23a5d390-e1ae-4bb6-b666-23526a1de875",
   "metadata": {},
   "outputs": [],
   "source": [
    "# Define the dither matrix\n",
    "dither_matrix = [[0, 128], [192, 64]]\n",
    "\n",
    "# Convert the image to binary using dithering\n",
    "binary_img = Image.new('1', img.size)\n",
    "for x in range(img.width):\n",
    "    for y in range(img.height):\n",
    "        intensity = sum(img.getpixel((x, y))) // 3\n",
    "        threshold = dither_matrix[x % 2][y % 2]\n",
    "        if intensity >= threshold:\n",
    "            binary_img.putpixel((x, y), 1)\n",
    "        else:\n",
    "            binary_img.putpixel((x, y), 0)\n",
    "\n",
    "# Display the binary image\n",
    "binary_img.show()\n"
   ]
  },
  {
   "cell_type": "code",
   "execution_count": null,
   "id": "9d90100a-da7a-4e91-a12c-a76161592b53",
   "metadata": {},
   "outputs": [],
   "source": []
  }
 ],
 "metadata": {
  "kernelspec": {
   "display_name": "Python 3 (ipykernel)",
   "language": "python",
   "name": "python3"
  },
  "language_info": {
   "codemirror_mode": {
    "name": "ipython",
    "version": 3
   },
   "file_extension": ".py",
   "mimetype": "text/x-python",
   "name": "python",
   "nbconvert_exporter": "python",
   "pygments_lexer": "ipython3",
   "version": "3.11.7"
  }
 },
 "nbformat": 4,
 "nbformat_minor": 5
}
